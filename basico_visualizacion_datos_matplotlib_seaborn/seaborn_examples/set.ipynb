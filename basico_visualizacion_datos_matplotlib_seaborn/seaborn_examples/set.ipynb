{
 "cells": [
  {
   "cell_type": "code",
   "execution_count": 1,
   "metadata": {},
   "outputs": [],
   "source": [
    "import seaborn as sns\n",
    "import matplotlib.pyplot as plt "
   ]
  },
  {
   "cell_type": "code",
   "execution_count": 2,
   "metadata": {},
   "outputs": [
    {
     "data": {
      "image/png": "[encoded data removed]",
      "text/plain": [
       "<Figure size 640x480 with 1 Axes>"
      ]
     },
     "metadata": {},
     "output_type": "display_data"
    }
   ],
   "source": [
    "sns.barplot(x=['A', 'B', 'C'], y=[1, 3, 2])\n",
    "plt.show()  # ? Seaborn, esta montado sobre matplotlib, por eso con el comando plt.show() se muestra la grafica de seaborn."
   ]
  },
  {
   "cell_type": "code",
   "execution_count": 14,
   "metadata": {},
   "outputs": [
    {
     "name": "stderr",
     "output_type": "stream",
     "text": [
      "findfont: Font family 'Verdana' not found.\n",
      "findfont: Font family 'Verdana' not found.\n",
      "findfont: Font family 'Verdana' not found.\n",
      "findfont: Font family 'Verdana' not found.\n",
      "findfont: Font family 'Verdana' not found.\n",
      "findfont: Font family 'Verdana' not found.\n",
      "findfont: Font family 'Verdana' not found.\n",
      "findfont: Font family 'Verdana' not found.\n",
      "findfont: Font family 'Verdana' not found.\n",
      "findfont: Font family 'Verdana' not found.\n",
      "findfont: Font family 'Verdana' not found.\n",
      "findfont: Font family 'Verdana' not found.\n",
      "findfont: Font family 'Verdana' not found.\n",
      "findfont: Font family 'Verdana' not found.\n",
      "findfont: Font family 'Verdana' not found.\n",
      "findfont: Font family 'Verdana' not found.\n",
      "findfont: Font family 'Verdana' not found.\n",
      "findfont: Font family 'Verdana' not found.\n",
      "findfont: Font family 'Verdana' not found.\n",
      "findfont: Font family 'Verdana' not found.\n",
      "findfont: Font family 'Verdana' not found.\n",
      "findfont: Font family 'Verdana' not found.\n",
      "findfont: Font family 'Verdana' not found.\n",
      "findfont: Font family 'Verdana' not found.\n",
      "findfont: Font family 'Verdana' not found.\n",
      "findfont: Font family 'Verdana' not found.\n",
      "findfont: Font family 'Verdana' not found.\n",
      "findfont: Font family 'Verdana' not found.\n",
      "findfont: Font family 'Verdana' not found.\n",
      "findfont: Font family 'Verdana' not found.\n",
      "findfont: Font family 'Verdana' not found.\n",
      "findfont: Font family 'Verdana' not found.\n"
     ]
    },
    {
     "data": {
      "image/png": "[encoded data removed]",
      "text/plain": [
       "<Figure size 640x480 with 1 Axes>"
      ]
     },
     "metadata": {},
     "output_type": "display_data"
    }
   ],
   "source": [
    "  # ? .set(), es una funcion de seaborn para opciones de estilo\n",
    "sns.set(style='dark', palette='deep', font_scale=1)  \n",
    "sns.barplot(x=['A', 'B', 'C'], y=[1, 3, 2])\n",
    "plt.show()"
   ]
  },
  {
   "cell_type": "code",
   "execution_count": null,
   "metadata": {},
   "outputs": [],
   "source": []
  }
 ],
 "metadata": {
  "kernelspec": {
   "display_name": "matplotlib_seaborn",
   "language": "python",
   "name": "python3"
  },
  "language_info": {
   "codemirror_mode": {
    "name": "ipython",
    "version": 3
   },
   "file_extension": ".py",
   "mimetype": "text/x-python",
   "name": "python",
   "nbconvert_exporter": "python",
   "pygments_lexer": "ipython3",
   "version": "3.8.10"
  },
  "orig_nbformat": 4,
  "vscode": {
   "interpreter": {
    "hash": "b026ce8ef97e63da4d38f9a66210ca0cd329579ca050b1ecaaae651554f6d932"
   }
  }
 },
 "nbformat": 4,
 "nbformat_minor": 2
}
