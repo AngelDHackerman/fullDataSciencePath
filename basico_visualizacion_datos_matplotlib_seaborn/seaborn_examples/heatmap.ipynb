{
 "cells": [
  {
   "cell_type": "code",
   "execution_count": null,
   "metadata": {},
   "outputs": [],
   "source": []
  }
 ],
 "metadata": {
  "kernelspec": {
   "display_name": "matplotlib_seaborn",
   "language": "python",
   "name": "python3"
  },
  "language_info": {
   "name": "python",
   "version": "3.8.10 (default, Nov 14 2022, 12:59:47) \n[GCC 9.4.0]"
  },
  "orig_nbformat": 4,
  "vscode": {
   "interpreter": {
    "hash": "b026ce8ef97e63da4d38f9a66210ca0cd329579ca050b1ecaaae651554f6d932"
   }
  }
 },
 "nbformat": 4,
 "nbformat_minor": 2
}
