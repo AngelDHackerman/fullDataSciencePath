{
 "cells": [
  {
   "cell_type": "code",
   "execution_count": 1,
   "metadata": {},
   "outputs": [],
   "source": [
    "import numpy as np"
   ]
  },
  {
   "cell_type": "code",
   "execution_count": 2,
   "metadata": {},
   "outputs": [
    {
     "name": "stdout",
     "output_type": "stream",
     "text": [
      "42\n"
     ]
    },
    {
     "data": {
      "text/plain": [
       "0"
      ]
     },
     "execution_count": 2,
     "metadata": {},
     "output_type": "execute_result"
    }
   ],
   "source": [
    "scalar = np.array(42)  # * un scalar es un unico valor, no tiene ninguna dimension.\n",
    "print(scalar)\n",
    "scalar.ndim # 0 dimensiones  # ? ndim, nos dice el numero de dimensiones del objeto "
   ]
  },
  {
   "cell_type": "code",
   "execution_count": 3,
   "metadata": {},
   "outputs": [
    {
     "name": "stdout",
     "output_type": "stream",
     "text": [
      "[1 2 3 4]\n"
     ]
    },
    {
     "data": {
      "text/plain": [
       "1"
      ]
     },
     "execution_count": 3,
     "metadata": {},
     "output_type": "execute_result"
    }
   ],
   "source": [
    "vector = np.array([1, 2, 3, 4])  # * un vector, es un objeto de 1 dimension\n",
    "print(vector)\n",
    "vector.ndim # 1 dimension"
   ]
  },
  {
   "cell_type": "code",
   "execution_count": 4,
   "metadata": {},
   "outputs": [
    {
     "name": "stdout",
     "output_type": "stream",
     "text": [
      "[[ 1  2  3]\n",
      " [ 4  5  6]\n",
      " [ 7  8  9]\n",
      " [ 0 20 35]]\n"
     ]
    },
    {
     "data": {
      "text/plain": [
       "2"
      ]
     },
     "execution_count": 4,
     "metadata": {},
     "output_type": "execute_result"
    }
   ],
   "source": [
    "matriz = np.array([[1, 2, 3], [4, 5, 6], [7, 8, 9], [0, 20, 35]])  # * una matriz son varios arrays, tienen 2 dimensiones\n",
    "print(matriz)\n",
    "matriz.ndim # 2 dimensiones  # ? ndim, nos dice el numero de dimensiones del objeto "
   ]
  },
  {
   "cell_type": "code",
   "execution_count": 5,
   "metadata": {},
   "outputs": [
    {
     "name": "stdout",
     "output_type": "stream",
     "text": [
      "[[[1 2 3]\n",
      "  [4 5 6]\n",
      "  [7 8 9]]\n",
      "\n",
      " [[1 2 3]\n",
      "  [4 5 6]\n",
      "  [7 8 9]]]\n"
     ]
    },
    {
     "data": {
      "text/plain": [
       "3"
      ]
     },
     "execution_count": 5,
     "metadata": {},
     "output_type": "execute_result"
    }
   ],
   "source": [
    "tensor = np.array([[[1, 2, 3], [4, 5, 6], [7, 8, 9]], [[1, 2, 3], [4, 5, 6], [7, 8, 9]]])  # * una tensor son varios arrays, tienen 3 o mas dimensiones. Es una matriz dentro de otra matriz\n",
    "print(tensor)\n",
    "tensor.ndim # 3 dimensiones"
   ]
  },
  {
   "attachments": {},
   "cell_type": "markdown",
   "metadata": {},
   "source": [
    "Agregar o eliminar dimensiones"
   ]
  },
  {
   "cell_type": "code",
   "execution_count": 6,
   "metadata": {},
   "outputs": [
    {
     "name": "stdout",
     "output_type": "stream",
     "text": [
      "[[[[[[[[[[1 2 3]]]]]]]]]]\n"
     ]
    },
    {
     "data": {
      "text/plain": [
       "10"
      ]
     },
     "execution_count": 6,
     "metadata": {},
     "output_type": "execute_result"
    }
   ],
   "source": [
    "vector = np.array([1, 2, 3], ndmin=10)  # ? ndmin=10: dice que el objeto tendra 10 dimensiones\n",
    "print(vector)\n",
    "vector.ndim"
   ]
  },
  {
   "cell_type": "code",
   "execution_count": 7,
   "metadata": {},
   "outputs": [
    {
     "name": "stdout",
     "output_type": "stream",
     "text": [
      "[[1 2 3]]\n"
     ]
    },
    {
     "data": {
      "text/plain": [
       "2"
      ]
     },
     "execution_count": 7,
     "metadata": {},
     "output_type": "execute_result"
    }
   ],
   "source": [
    "expanded = np.expand_dims(np.array([1, 2, 3,]), axis=0) # ? 0 es a nivel de filas; 1 es a nivel de columnas; .expand_dims() Es un metodo para especificar que dimension se quiere expandir\n",
    "print(expanded)\n",
    "expanded.ndim # * mostrara 2 dimesiones, porque se expandio el axis 0, (dimesion al nivel de filas)"
   ]
  },
  {
   "cell_type": "code",
   "execution_count": 8,
   "metadata": {},
   "outputs": [
    {
     "name": "stdout",
     "output_type": "stream",
     "text": [
      "[[[[[[[[[[1 2 3]]]]]]]]]] 10\n",
      "[1 2 3] 1\n"
     ]
    }
   ],
   "source": [
    "print(vector, vector.ndim)  # 10 dim\n",
    "vector_2 = np.squeeze(vector)  # ? .squeeze(): Comprime el numero de dimensiones correcto, elimina las que no se esten usando.\n",
    "print(vector_2, vector_2.ndim)  # 1 dim"
   ]
  }
 ],
 "metadata": {
  "kernelspec": {
   "display_name": "manipulacion_pandas_numpy",
   "language": "python",
   "name": "python3"
  },
  "language_info": {
   "codemirror_mode": {
    "name": "ipython",
    "version": 3
   },
   "file_extension": ".py",
   "mimetype": "text/x-python",
   "name": "python",
   "nbconvert_exporter": "python",
   "pygments_lexer": "ipython3",
   "version": "3.10.8"
  },
  "orig_nbformat": 4,
  "vscode": {
   "interpreter": {
    "hash": "1837f27212b1dceb6ae9ab9aa664c0b8fe089a7f2db6203da96cdd777cba7624"
   }
  }
 },
 "nbformat": 4,
 "nbformat_minor": 2
}
