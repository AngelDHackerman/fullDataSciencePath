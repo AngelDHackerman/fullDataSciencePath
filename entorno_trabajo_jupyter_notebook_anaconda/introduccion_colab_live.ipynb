{
  "cells": [
    {
      "cell_type": "markdown",
      "metadata": {
        "id": "VX4AXt1z06p7"
      },
      "source": [
        "# Introducción a Google Colaboratory\n",
        "\n",
        "\n",
        "\n"
      ]
    },
    {
      "cell_type": "markdown",
      "metadata": {
        "id": "3w9hDmeT1RFc"
      },
      "source": [
        "## Ejecución y edición de celdas"
      ]
    },
    {
      "cell_type": "markdown",
      "metadata": {
        "id": "kVycw82U1SNU"
      },
      "source": [
        "### Celdas de código"
      ]
    },
    {
      "cell_type": "code",
      "execution_count": null,
      "metadata": {
        "colab": {
          "base_uri": "https://localhost:8080/"
        },
        "id": "pmj63Cv01Smg",
        "outputId": "f91ad15a-0716-4776-e06d-fcf1506dcf09"
      },
      "outputs": [
        {
          "data": {
            "text/plain": [
              "3"
            ]
          },
          "execution_count": 1,
          "metadata": {
            "tags": []
          },
          "output_type": "execute_result"
        }
      ],
      "source": [
        "1 + 2"
      ]
    },
    {
      "cell_type": "markdown",
      "metadata": {
        "id": "BizkQMEJ1bFT"
      },
      "source": [
        "### Celdas de texto"
      ]
    },
    {
      "cell_type": "markdown",
      "metadata": {
        "id": "o1RZy_-O2qwR"
      },
      "source": [
        "#### Texto enriquericido\n",
        "\n",
        "\n"
      ]
    },
    {
      "cell_type": "markdown",
      "metadata": {
        "id": "-OXWFW_u2rNL"
      },
      "source": [
        "#### Imágenes o gifs"
      ]
    },
    {
      "cell_type": "markdown",
      "metadata": {
        "id": "k-Ui7NLh1bLf"
      },
      "source": [
        "![link text](https://media.giphy.com/media/6aGXQxkohixag/giphy.gif)"
      ]
    },
    {
      "cell_type": "markdown",
      "metadata": {
        "id": "RrNr7t6F1bP8"
      },
      "source": [
        "## Variables"
      ]
    },
    {
      "cell_type": "code",
      "execution_count": 1,
      "metadata": {
        "id": "3jaRCHkS1bTf"
      },
      "outputs": [],
      "source": [
        "variable = 'soy increible'"
      ]
    },
    {
      "cell_type": "code",
      "execution_count": 2,
      "metadata": {
        "id": "HiN7Chx11bWf"
      },
      "outputs": [
        {
          "name": "stdout",
          "output_type": "stream",
          "text": [
            "soy increible\n"
          ]
        }
      ],
      "source": [
        "print(variable)"
      ]
    },
    {
      "cell_type": "markdown",
      "metadata": {
        "id": "RMzLQ0KF1bZY"
      },
      "source": [
        "## Línea de comandos"
      ]
    },
    {
      "cell_type": "code",
      "execution_count": 4,
      "metadata": {
        "id": "diJyGyWw3392"
      },
      "outputs": [
        {
          "name": "stdout",
          "output_type": "stream",
          "text": [
            "/home/angel/platziProgramador/DataScienceEInteligenciaArtificial/fullDataSciencePath/entorno_trabajo_jupyter_notebook_anaconda\n",
            "introduccion_colab_live.ipynb  primer_colab.ipynb\n"
          ]
        }
      ],
      "source": [
        "!pwd  # Asi se ejecutan los comandos \n",
        "!ls"
      ]
    },
    {
      "cell_type": "markdown",
      "metadata": {
        "id": "IcPvNSH64OGR"
      },
      "source": [
        "## Instalación de librerías"
      ]
    },
    {
      "cell_type": "code",
      "execution_count": 1,
      "metadata": {
        "id": "_q-ajRSrFK1Q"
      },
      "outputs": [
        {
          "name": "stdout",
          "output_type": "stream",
          "text": [
            "Defaulting to user installation because normal site-packages is not writeable\n",
            "Requirement already satisfied: session-info in /home/angel/.local/lib/python3.10/site-packages (1.0.0)\n",
            "Requirement already satisfied: stdlib-list in /home/angel/.local/lib/python3.10/site-packages (from session-info) (0.8.0)\n",
            "Note: you may need to restart the kernel to use updated packages.\n"
          ]
        }
      ],
      "source": [
        "%pip install session-info  # Asi instalamos librerias en la linea de comandos"
      ]
    },
    {
      "cell_type": "code",
      "execution_count": 1,
      "metadata": {
        "id": "EvgpUkAGG1hH"
      },
      "outputs": [],
      "source": [
        "import session_info  # Misma manera, asi importamos la libreria recien instalada."
      ]
    },
    {
      "cell_type": "code",
      "execution_count": 2,
      "metadata": {
        "id": "XXW_W6F4JjzN"
      },
      "outputs": [
        {
          "data": {
            "text/html": [
              "<details>\n",
              "<summary>Click to view session information</summary>\n",
              "<pre>\n",
              "-----\n",
              "session_info        1.0.0\n",
              "-----\n",
              "</pre>\n",
              "<details>\n",
              "<summary>Click to view modules imported as dependencies</summary>\n",
              "<pre>\n",
              "apport_python_hook  NA\n",
              "asttokens           NA\n",
              "backcall            0.2.0\n",
              "colorama            0.4.4\n",
              "cython_runtime      NA\n",
              "dateutil            2.8.2\n",
              "debugpy             1.6.4\n",
              "decorator           5.1.1\n",
              "django              4.1.1\n",
              "entrypoints         0.4\n",
              "executing           1.2.0\n",
              "ipykernel           6.17.1\n",
              "ipython_genutils    0.2.0\n",
              "jedi                0.18.2\n",
              "netifaces           0.11.0\n",
              "packaging           21.3\n",
              "parso               0.8.3\n",
              "pexpect             4.8.0\n",
              "pickleshare         0.7.5\n",
              "pkg_resources       NA\n",
              "platformdirs        2.5.4\n",
              "prompt_toolkit      3.0.36\n",
              "psutil              5.9.0\n",
              "ptyprocess          0.7.0\n",
              "pure_eval           0.2.2\n",
              "pydev_ipython       NA\n",
              "pydevconsole        NA\n",
              "pydevd              2.9.1\n",
              "pydevd_file_utils   NA\n",
              "pydevd_plugins      NA\n",
              "pydevd_tracing      NA\n",
              "pygments            2.13.0\n",
              "sitecustomize       NA\n",
              "six                 1.16.0\n",
              "stack_data          0.6.2\n",
              "tornado             6.2\n",
              "traitlets           5.6.0\n",
              "wcwidth             0.2.5\n",
              "zmq                 24.0.1\n",
              "</pre>\n",
              "</details> <!-- seems like this ends pre, so might as well be explicit -->\n",
              "<pre>\n",
              "-----\n",
              "IPython             8.7.0\n",
              "jupyter_client      7.4.8\n",
              "jupyter_core        5.1.0\n",
              "notebook            6.5.2\n",
              "-----\n",
              "Python 3.10.6 (main, Nov 14 2022, 16:10:14) [GCC 11.3.0]\n",
              "Linux-5.15.0-56-generic-x86_64-with-glibc2.35\n",
              "-----\n",
              "Session information updated at 2022-12-24 23:11\n",
              "</pre>\n",
              "</details>"
            ],
            "text/plain": [
              "<IPython.core.display.HTML object>"
            ]
          },
          "execution_count": 2,
          "metadata": {},
          "output_type": "execute_result"
        }
      ],
      "source": [
        "session_info.show()  # Da los detalles del ambiente donde se ejectua el notebook"
      ]
    },
    {
      "cell_type": "markdown",
      "metadata": {
        "id": "bfbnB1rw437K"
      },
      "source": [
        "### Ciencia de datos"
      ]
    },
    {
      "cell_type": "markdown",
      "metadata": {
        "id": "Zh3EV2drAyRE"
      },
      "source": [
        "### Subir archivos"
      ]
    },
    {
      "cell_type": "code",
      "execution_count": null,
      "metadata": {
        "id": "o2zBdfYDAwoT"
      },
      "outputs": [],
      "source": []
    },
    {
      "cell_type": "markdown",
      "metadata": {
        "id": "tWT-hVeekJ7Y"
      },
      "source": [
        "### Librerías para Ciencia de Datos\n",
        "\n",
        "- 📊 **matplotlib**: Generación de gráficos a partir de listas o arrays.\n",
        "- 🧑‍💻 **numpy**: Cómputo científico para la manipulación de vectores.\n",
        "- 🧑‍💻 **pandas**: Manipulación y análisis de datos de tablas y series temporales.\n",
        "- 🧑‍💻 **scipy**: Herramientas y algoritmos matemáticos.\n",
        "- 📊 **seaborn**: Visualización de datos estadísticos."
      ]
    },
    {
      "cell_type": "code",
      "execution_count": null,
      "metadata": {
        "id": "ARjmm8iZkKGG"
      },
      "outputs": [],
      "source": [
        "import matplotlib.pyplot as plt\n",
        "import numpy as np\n",
        "import pandas as pd\n",
        "import scipy as sc\n",
        "import seaborn as sns"
      ]
    },
    {
      "cell_type": "markdown",
      "metadata": {
        "id": "EMnwCNzMkKTd"
      },
      "source": [
        "### Gráficas"
      ]
    },
    {
      "cell_type": "code",
      "execution_count": null,
      "metadata": {
        "id": "YRzwKWVPrsv2"
      },
      "outputs": [],
      "source": [
        "# load an example dataset\n",
        "from vega_datasets import data\n",
        "cars = data.cars()\n",
        "\n",
        "# plot the dataset, referencing dataframe column names\n",
        "import altair as alt\n",
        "alt.Chart(cars).mark_bar().encode(\n",
        "  x=alt.X('Miles_per_Gallon', bin=True),\n",
        "  y='count()',\n",
        ")"
      ]
    },
    {
      "cell_type": "markdown",
      "metadata": {
        "id": "MvJKNGhb8pP8"
      },
      "source": [
        "## Atajos de teclado"
      ]
    }
  ],
  "metadata": {
    "colab": {
      "collapsed_sections": [],
      "name": "introduccion_colab_live.ipynb",
      "provenance": []
    },
    "kernelspec": {
      "display_name": "Python 3",
      "language": "python",
      "name": "python3"
    },
    "language_info": {
      "codemirror_mode": {
        "name": "ipython",
        "version": 3
      },
      "file_extension": ".py",
      "mimetype": "text/x-python",
      "name": "python",
      "nbconvert_exporter": "python",
      "pygments_lexer": "ipython3",
      "version": "3.10.6"
    },
    "vscode": {
      "interpreter": {
        "hash": "916dbcbb3f70747c44a77c7bcd40155683ae19c65e1c03b4aa3499c5328201f1"
      }
    }
  },
  "nbformat": 4,
  "nbformat_minor": 0
}
